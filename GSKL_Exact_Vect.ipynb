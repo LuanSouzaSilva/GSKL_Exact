{
 "cells": [
  {
   "cell_type": "code",
   "execution_count": 72,
   "id": "4c94110e",
   "metadata": {},
   "outputs": [],
   "source": [
    "import matplotlib.pyplot as plt\n",
    "import numpy as np\n",
    "from scipy.sparse.linalg import eigsh\n",
    "from scipy.linalg import ishermitian"
   ]
  },
  {
   "cell_type": "code",
   "execution_count": 73,
   "id": "0f9c6811",
   "metadata": {},
   "outputs": [],
   "source": [
    "def Pauli():\n",
    "    s0 = np.eye(2, dtype = complex)\n",
    "    sx = np.array([[0, 1], [1, 0]], dtype = complex)\n",
    "    sy = np.array([[0, -1j], [1j, 0]], dtype = complex)\n",
    "    sz = np.array([[1, 0], [0, -1]], dtype = complex)\n",
    "\n",
    "    sp = (sx + 1j*sy)/2\n",
    "    sm = (sx - 1j*sy)/2\n",
    "    return s0, sx, sy, sz, sp, sm\n",
    "\n",
    "def commutator(A, B):\n",
    "    return A@B - B@A\n",
    "\n",
    "def anticommutator(A, B):\n",
    "    return A@B + B@A\n",
    "\n",
    "def create_string(N, site, op, s0):\n",
    "    if N < 10:\n",
    "        if site == 0:\n",
    "            string = op\n",
    "            for i in range(N-1):\n",
    "                string = np.kron(string, s0)\n",
    "            return string\n",
    "        else:\n",
    "            string = s0\n",
    "            for i in range(1, N):\n",
    "                if i == site:\n",
    "                    string = np.kron(string, op)\n",
    "                else:\n",
    "                    string = np.kron(string, s0)\n",
    "        return string\n",
    "    else:\n",
    "        pass#return create_string_sparse(N, site, op, s0)\n",
    "\n",
    "def hamiltonian(N, J, D, s0, sx, sy, sz):\n",
    "    sxi = create_string(N, 0, sx, s0)\n",
    "    sxip1 = create_string(N, 0+1, sx, s0)\n",
    "\n",
    "    syi = create_string(N, 0, sy, s0)\n",
    "    syip1 = create_string(N, 0+1, sy, s0)\n",
    "\n",
    "    szi = create_string(N, 0, sz, s0)\n",
    "    szip1 = create_string(N, 0+1, sz, s0)\n",
    "\n",
    "    Ham = J*(sxi@sxip1 + syi@syip1 + D*(szi@szip1))\n",
    "    for i in range(1, N-1):\n",
    "        sxi = create_string(N, i, sx, s0)\n",
    "        sxip1 = create_string(N, i+1, sx, s0)\n",
    "\n",
    "        syi = create_string(N, i, sy, s0)\n",
    "        syip1 = create_string(N, i+1, sy, s0)\n",
    "\n",
    "        szi = create_string(N, i, sz, s0)\n",
    "        szip1 = create_string(N, i+1, sz, s0)\n",
    "        Ham = Ham + J*(sxi@sxip1 + syi@syip1 + D*(szi@szip1))\n",
    "    return Ham\n",
    "\n",
    "def cal_D(L):\n",
    "    Id = np.eye(len(L), dtype = complex)\n",
    "    aux1 = np.kron(L.conj(), L)\n",
    "    aux2 = np.kron(Id, (L.T.conj()@L))\n",
    "    aux3 = np.kron((L.T.conj()@L).T, Id)\n",
    "\n",
    "    return aux1 - (aux2 + aux3)/2\n",
    "\n",
    "def dissipator(op1, op2, gamma, f):\n",
    "    return gamma*(f*cal_D(op1) + (1-f)*cal_D(op2))\n",
    "\n",
    "def GSKL(H, dissipators):\n",
    "    Id = np.eye(len(H), dtype = complex)\n",
    "    return -1j*(np.kron(Id, H) - np.kron(H.T, Id)) + dissipators"
   ]
  },
  {
   "cell_type": "code",
   "execution_count": 74,
   "id": "26c4a5c8",
   "metadata": {},
   "outputs": [],
   "source": [
    "s0, sx, sy, sz, sp, sm = Pauli()\n",
    "\n",
    "N = 4\n",
    "\n",
    "H = hamiltonian(N, 1, 1, s0, sx, sy, sz)\n",
    "\n",
    "op01 = create_string(N, 0, sp, s0)\n",
    "op02 = create_string(N, 0, sm, s0)\n",
    "\n",
    "op11 = create_string(N, N-1, sp, s0)\n",
    "op12 = create_string(N, N-1, sm, s0)\n",
    "\n",
    "D1 = dissipator(op01, op02, 0.1, 1)\n",
    "DN = dissipator(op11, op12, 0.1, 0)\n",
    "\n",
    "Liouv = GSKL(H, D1 + DN)\n"
   ]
  },
  {
   "cell_type": "code",
   "execution_count": 75,
   "id": "66d97733",
   "metadata": {},
   "outputs": [
    {
     "name": "stdout",
     "output_type": "stream",
     "text": [
      "False\n"
     ]
    }
   ],
   "source": [
    "\n",
    "M = Liouv.T.conj()@Liouv\n",
    "\n",
    "print(ishermitian(M))"
   ]
  },
  {
   "cell_type": "code",
   "execution_count": 76,
   "id": "81aba4b3",
   "metadata": {},
   "outputs": [],
   "source": [
    "eigvals, eigvecs = eigsh(M, k = 2, which = 'SA')"
   ]
  },
  {
   "cell_type": "code",
   "execution_count": 77,
   "id": "80c26acb",
   "metadata": {},
   "outputs": [
    {
     "name": "stdout",
     "output_type": "stream",
     "text": [
      "(-3.7652526452921755-1.3052417864102308j)\n",
      "2.6353580090162054e-14\n"
     ]
    }
   ],
   "source": [
    "rho_NESS = np.reshape(eigvecs[:, 0], (2**N, 2**N), order = 'F')\n",
    "obs_op = []\n",
    "for i in range(N):\n",
    "  sztot = create_string(N, i, sz, s0)\n",
    "  obs_op.append(np.real(np.trace(rho_NESS@sztot)/np.trace(rho_NESS)))\n",
    "  #obs_op.append(sztot)\n",
    "\n",
    "print(np.trace(rho_NESS))\n",
    "#print(np.round(rho_NESS/np.trace(rho_NESS), 2))\n",
    "print(eigvals[0])"
   ]
  },
  {
   "cell_type": "code",
   "execution_count": 79,
   "id": "555de100",
   "metadata": {},
   "outputs": [
    {
     "data": {
      "text/plain": [
       "[<matplotlib.lines.Line2D at 0x7e619b7ea200>]"
      ]
     },
     "execution_count": 79,
     "metadata": {},
     "output_type": "execute_result"
    },
    {
     "data": {
      "image/png": "[encoded data removed]",
      "text/plain": [
       "<Figure size 640x480 with 1 Axes>"
      ]
     },
     "metadata": {},
     "output_type": "display_data"
    }
   ],
   "source": [
    "plt.plot(obs_op, '-o')"
   ]
  },
  {
   "cell_type": "code",
   "execution_count": null,
   "id": "422db6e9",
   "metadata": {},
   "outputs": [],
   "source": []
  }
 ],
 "metadata": {
  "kernelspec": {
   "display_name": "Python 3",
   "language": "python",
   "name": "python3"
  },
  "language_info": {
   "codemirror_mode": {
    "name": "ipython",
    "version": 3
   },
   "file_extension": ".py",
   "mimetype": "text/x-python",
   "name": "python",
   "nbconvert_exporter": "python",
   "pygments_lexer": "ipython3",
   "version": "3.10.12"
  }
 },
 "nbformat": 4,
 "nbformat_minor": 5
}
