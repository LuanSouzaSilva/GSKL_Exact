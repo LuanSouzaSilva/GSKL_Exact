{
 "cells": [
  {
   "cell_type": "code",
   "execution_count": 10,
   "id": "a32fbc59",
   "metadata": {},
   "outputs": [],
   "source": [
    "import matplotlib.pyplot as plt\n",
    "import numpy as np\n",
    "from scipy.sparse import kron, csc_matrix, eye\n",
    "from GSKL_Exact_Funcs import *"
   ]
  },
  {
   "cell_type": "code",
   "execution_count": 11,
   "id": "11f90878",
   "metadata": {},
   "outputs": [],
   "source": [
    "N = 4\n",
    "\n",
    "s0, sx, sy, sz, sp, sm = Pauli(N)\n",
    "\n",
    "Nt = 5000\n",
    "dt = 0.01\n",
    "gammas = np.array([0.5, 0.5])\n",
    "fs = np.array([1, 0])\n",
    "\n",
    "H = hamiltonian(N, 1, 1, s0, sx, sy, sz)\n",
    "\n",
    "#rho0 = eye(m = H.shape[0], dtype = complex, format = 'csc')#/len(H)#density_matrix([0.5, 0.5], [[0, 1, 0, 0], [0, 0, 1, 0]])\n",
    "rho0 = np.eye(len(H), dtype = complex)/len(H)\n",
    "localmag = np.zeros(N, dtype = complex)\n",
    "\n",
    "obs_op = []\n",
    "for i in range(N):\n",
    "  sztot = create_string(N, i, sz, s0)\n",
    "  obs_op.append(sztot)\n",
    "\n",
    "op01 = create_string(N, 0, sm, s0)\n",
    "op02 = create_string(N, 0, sp, s0)\n",
    "\n",
    "op11 = create_string(N, N-1, sm, s0)\n",
    "op12 = create_string(N, N-1, sp, s0)\n",
    "\n",
    "op_dis = [op01, op02, op11, op12]"
   ]
  },
  {
   "cell_type": "code",
   "execution_count": 15,
   "id": "71e099ac",
   "metadata": {},
   "outputs": [
    {
     "name": "stdout",
     "output_type": "stream",
     "text": [
      "Rodou 2090 iteracoes de tempo.\n",
      "0\n",
      "Rodou 2090 iteracoes de tempo.\n",
      "1\n",
      "Rodou 2090 iteracoes de tempo.\n",
      "2\n",
      "Rodou 2090 iteracoes de tempo.\n",
      "3\n"
     ]
    },
    {
     "name": "stderr",
     "output_type": "stream",
     "text": [
      "/home/luan/.local/lib/python3.10/site-packages/matplotlib/cbook/__init__.py:1345: ComplexWarning: Casting complex values to real discards the imaginary part\n",
      "  return np.asarray(x, float)\n"
     ]
    },
    {
     "data": {
      "text/plain": [
       "[<matplotlib.lines.Line2D at 0x7e6869f2bfd0>]"
      ]
     },
     "execution_count": 15,
     "metadata": {},
     "output_type": "execute_result"
    },
    {
     "data": {
      "image/png": "[encoded data removed]",
      "text/plain": [
       "<Figure size 640x480 with 1 Axes>"
      ]
     },
     "metadata": {},
     "output_type": "display_data"
    }
   ],
   "source": [
    "for i in range(N):\n",
    "     #+ create_string(N, 1, sz)\n",
    "    rho_trace, Opmean, Liouv = time_evolution2(N, Nt, dt, H, rho0, gammas, fs, op_dis, obs_op[i], 1e-5)\n",
    "    #local_current_op = 2*1*(create_string(N, i, sx)@create_string(N, i+1, sy) - create_string(N, i, sy)@create_string(N, i+1, sx))\n",
    "\n",
    "    localmag[i] = Opmean[-1]\n",
    "    print(i)\n",
    "\n",
    "#plt.plot(np.real(localmag), '-o')\n",
    "plt.semilogy(Liouv)"
   ]
  },
  {
   "cell_type": "code",
   "execution_count": null,
   "id": "e26335d1",
   "metadata": {},
   "outputs": [],
   "source": []
  }
 ],
 "metadata": {
  "kernelspec": {
   "display_name": "Python 3",
   "language": "python",
   "name": "python3"
  },
  "language_info": {
   "codemirror_mode": {
    "name": "ipython",
    "version": 3
   },
   "file_extension": ".py",
   "mimetype": "text/x-python",
   "name": "python",
   "nbconvert_exporter": "python",
   "pygments_lexer": "ipython3",
   "version": "3.10.12"
  }
 },
 "nbformat": 4,
 "nbformat_minor": 5
}
