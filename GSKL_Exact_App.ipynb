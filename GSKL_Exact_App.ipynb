{
   "cells": [
      {
         "cell_type": "code",
         "execution_count": 1,
         "id": "5ef4a9ab",
         "metadata": {},
         "outputs": [],
         "source": [
            "import matplotlib.pyplot as plt\n",
            "from GSKL_Exact_Funcs import *\n",
            "from scipy.sparse import eye\n",
            "import numpy as np"
         ]
      },
      {
         "cell_type": "code",
         "execution_count": 2,
         "id": "921f0fb0",
         "metadata": {},
         "outputs": [],
         "source": [
            "N = 4\n",
            "\n",
            "s0, sx, sy, sz, sp, sm = Pauli(N)\n",
            "\n",
            "J = 1\n",
            "Delta = 1\n",
            "Nt = 1000\n",
            "dt = 0.01\n",
            "\n",
            "gammas = [0.5, 0.5]\n",
            "fs = [0, 1]\n",
            "\n",
            "\n",
            "H = hamiltonian(N, J, Delta, s0, sx, sy, sz)\n",
            "if  N >= 6:\n",
            "    rho0 = eye(N, dtype = complex)/len(H)\n",
            "else:\n",
            "    rho0 = np.eye(2**N, dtype = complex)/len(H)\n",
            "\n",
            "\n",
            "op01 = create_string(N, 0, sp, s0)\n",
            "op02 = create_string(N, 0, sm, s0)\n",
            "\n",
            "op11 = create_string(N, N-1, sp, s0)\n",
            "op12 = create_string(N, N-1, sm, s0)\n",
            "\n",
            "op_dis = [op01, op02, op11, op12]\n",
            "\n",
            "szloc = []\n",
            "for i in range(N):\n",
            "    szloc.append(create_string(N, i, sz, s0))"
         ]
      },
      {
         "cell_type": "code",
         "execution_count": 3,
         "id": "837cf0e7",
         "metadata": {},
         "outputs": [],
         "source": [
            "eps = 1e-4\n",
            "\n",
            "#for i in range(N):\n",
            "rho_tr, Opmean, liouvillian_mean = time_evolution2(N, Nt, dt, H, rho0, gammas, fs, op_dis, szloc[-1], eps)\n"
         ]
      },
      {
         "cell_type": "code",
         "execution_count": 4,
         "id": "3e11dd49",
         "metadata": {},
         "outputs": [
            {
               "data": {
                  "text/plain": [
                     "[<matplotlib.lines.Line2D at 0x704d97b362f0>]"
                  ]
               },
               "execution_count": 4,
               "metadata": {},
               "output_type": "execute_result"
            },
            {
               "data": {
                  "image/png": "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",
                  "text/plain": [
                     "<Figure size 432x288 with 1 Axes>"
                  ]
               },
               "metadata": {
                  "needs_background": "light"
               },
               "output_type": "display_data"
            }
         ],
         "source": [
            "plt.plot(liouvillian_mean)"
         ]
      }
   ],
   "metadata": {
      "kernelspec": {
         "display_name": "Python 3",
         "language": "python",
         "name": "python3"
      },
      "language_info": {
         "codemirror_mode": {
            "name": "ipython",
            "version": 3
         },
         "file_extension": ".py",
         "mimetype": "text/x-python",
         "name": "python",
         "nbconvert_exporter": "python",
         "pygments_lexer": "ipython3",
         "version": "3.10.12"
      }
   },
   "nbformat": 4,
   "nbformat_minor": 5
}
{
   "cells": [
      {
         "cell_type": "code",
         "execution_count": 10,
         "id": "a32fbc59",
         "metadata": {},
         "outputs": [],
         "source": [
            "import matplotlib.pyplot as plt\n",
            "import numpy as np\n",
            "from scipy.sparse import kron, csc_matrix, eye\n",
            "from GSKL_Exact_Funcs import *"
         ]
      },
      {
         "cell_type": "code",
         "execution_count": 11,
         "id": "11f90878",
         "metadata": {},
         "outputs": [],
         "source": [
            "N = 4\n",
            "\n",
            "s0, sx, sy, sz, sp, sm = Pauli(N)\n",
            "\n",
            "Nt = 5000\n",
            "dt = 0.01\n",
            "gammas = np.array([0.5, 0.5])\n",
            "fs = np.array([1, 0])\n",
            "\n",
            "H = hamiltonian(N, 1, 1, s0, sx, sy, sz)\n",
            "\n",
            "#rho0 = eye(m = H.shape[0], dtype = complex, format = 'csc')#/len(H)#density_matrix([0.5, 0.5], [[0, 1, 0, 0], [0, 0, 1, 0]])\n",
            "rho0 = np.eye(len(H), dtype = complex)/len(H)\n",
            "localmag = np.zeros(N, dtype = complex)\n",
            "\n",
            "obs_op = []\n",
            "for i in range(N):\n",
            "  sztot = create_string(N, i, sz, s0)\n",
            "  obs_op.append(sztot)\n",
            "\n",
            "op01 = create_string(N, 0, sm, s0)\n",
            "op02 = create_string(N, 0, sp, s0)\n",
            "\n",
            "op11 = create_string(N, N-1, sm, s0)\n",
            "op12 = create_string(N, N-1, sp, s0)\n",
            "\n",
            "op_dis = [op01, op02, op11, op12]"
         ]
      },
      {
         "cell_type": "code",
         "execution_count": 15,
         "id": "71e099ac",
         "metadata": {},
         "outputs": [
            {
               "name": "stdout",
               "output_type": "stream",
               "text": [
                  "Rodou 2090 iteracoes de tempo.\n",
                  "0\n",
                  "Rodou 2090 iteracoes de tempo.\n",
                  "1\n",
                  "Rodou 2090 iteracoes de tempo.\n",
                  "2\n",
                  "Rodou 2090 iteracoes de tempo.\n",
                  "3\n"
               ]
            },
            {
               "name": "stderr",
               "output_type": "stream",
               "text": [
                  "/home/luan/.local/lib/python3.10/site-packages/matplotlib/cbook/__init__.py:1345: ComplexWarning: Casting complex values to real discards the imaginary part\n",
                  "  return np.asarray(x, float)\n"
               ]
            },
            {
               "data": {
                  "text/plain": [
                     "[<matplotlib.lines.Line2D at 0x7e6869f2bfd0>]"
                  ]
               },
               "execution_count": 15,
               "metadata": {},
               "output_type": "execute_result"
            },
            {
               "data": {
                  "image/png": "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",
                  "text/plain": [
                     "<Figure size 640x480 with 1 Axes>"
                  ]
               },
               "metadata": {},
               "output_type": "display_data"
            }
         ],
         "source": [
            "for i in range(N):\n",
            "     #+ create_string(N, 1, sz)\n",
            "    rho_trace, Opmean, Liouv = time_evolution2(N, Nt, dt, H, rho0, gammas, fs, op_dis, obs_op[i], 1e-5)\n",
            "    #local_current_op = 2*1*(create_string(N, i, sx)@create_string(N, i+1, sy) - create_string(N, i, sy)@create_string(N, i+1, sx))\n",
            "\n",
            "    localmag[i] = Opmean[-1]\n",
            "    print(i)\n",
            "\n",
            "#plt.plot(np.real(localmag), '-o')\n",
            "plt.semilogy(Liouv)"
         ]
      },
      {
         "cell_type": "code",
         "execution_count": null,
         "id": "e26335d1",
         "metadata": {},
         "outputs": [],
         "source": []
      }
   ],
   "metadata": {
      "kernelspec": {
         "display_name": "Python 3",
         "language": "python",
         "name": "python3"
      },
      "language_info": {
         "codemirror_mode": {
            "name": "ipython",
            "version": 3
         },
         "file_extension": ".py",
         "mimetype": "text/x-python",
         "name": "python",
         "nbconvert_exporter": "python",
         "pygments_lexer": "ipython3",
         "version": "3.10.12"
      }
   },
   "nbformat": 4,
   "nbformat_minor": 5
}